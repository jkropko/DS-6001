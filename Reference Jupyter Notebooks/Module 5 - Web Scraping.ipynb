{
 "cells": [
  {
   "cell_type": "markdown",
   "metadata": {},
   "source": [
    "# Module 5: Web Scraping Using `BeautifulSoup`\n",
    "## DS 6001: Practice and Application of Data Science\n",
    "\n",
    "**Table of contents**:\n",
    "\n",
    "* [Introduction: Is Web Scraping Legal?](#legal)\n",
    "* [How Websites Prevent You From Scraping](#prevent)\n",
    "* [Using `requests` with a User Agent Header](#useragent)\n",
    "* [Using `BeautifulSoup()` (Example: WNRN, Charlottesville's Legendary Radio Station)](#beausoup)\n",
    "    * [Downloading and Understanding Raw HTML](#html)\n",
    "    * [Parsing Raw HTML with `BeautifulSoup()`](#parse)\n",
    "    * [Searching for HTML Tags and Extracting Data](#tags)\n",
    "    * [Constructing a Data Frame from HTML Data](#dataframe)\n",
    "* [Building a Spider](#spider)"
   ]
  },
  {
   "cell_type": "markdown",
   "metadata": {},
   "source": [
    "## <a name=\"legal\"></a> Introduction: Is Web Scraping Legal?\n",
    "Web scraping is the practice of downloading the raw HTML code that generates a website, and instead of parsing the code to display it like we do with a web browser whenever we navigate to a page, we dig through the code for data. \n",
    "\n",
    "There are **significant legal and ethical questions** regarding web scraping. Right now, there is a court case - [HiQ Labs vs. LinkedIn](https://en.wikipedia.org/wiki/HiQ_Labs_v._LinkedIn) - that will establish whether and under what conditions web scraping is legal. \n",
    "\n",
    "<img src=\"https://crowdjustice.imgix.net/pictures/courtroom5-gray_uI7BCRV.png?auto=enhance%2Cformat&crop=faces&fit=crop&q=80&w=1200\" width=\"600\" height=\"600\">\n",
    "\n",
    "HiQ is a company that scraps data from individuals' LinkedIn profiles to compile data to use to build models that predict whether employees will leave their positions for new jobs. They use the insights from these models to consult with businesses to reduce employee turnover. In 2017 LinkedIn issued a Cease and Desist order to HiQ and took steps to prevent anyone including HiQ from deploying scrapers on profiles. Because HiQ's business model is entirely dependent on collecting data from LinkedIn profiles, this action by LinkedIn would have caused HiQ to go out of business. Instead, HiQ filed a lawsuit against LinkedIn in federal court. HiQ argued that user profiles contain data that are owned by the LinkedIn users themselves who intend to make that information public using the LinkedIn platform -- and so, because the data owners are sharing their own data, HiQ should be able to access that data. LinkedIn argued that the HiQ's scraping of user data amounts to theft, is a violation of the [Consumer Fraud and Abuse Act](https://en.wikipedia.org/wiki/Computer_Fraud_and_Abuse_Act), and violates LinkedIn users' privacy. \n",
    "\n",
    "In 2017 a federal district court issued an injunction that prevented LinkedIn from blocking HiQ's scraping scripts. The case was appealed to the Circuit Court, where [this injuction was upheld in 2019](https://www.reuters.com/article/us-microsoft-linkedin-profiles/microsofts-linkedin-loses-appeal-over-access-to-user-profiles-idUSKCN1VU21W). In March 2020 LinkedIn filed for the case to be appealed to the U.S. Supreme Court. It is likely that this case will be decided at the highest level in the United States sometime in the next year. What the Supreme Court decides will have [massive ramifications](https://www.natlawreview.com/print/article/linkedin-files-petition-to-supreme-court-hiq-web-scraping-case) on the use of web scraping, data science, and on the tech industry at large. It will establish whether web scraping is legal, legal with restrictions, or illegal, and it will have implications for data ownership and the extent to which large tech companies control and own the data that exist on their platforms.\n",
    "\n",
    "If this debate is interesting to you, here's a longer, philosophically-oriented article about the virtues of web scraping for academic research: https://research.gold.ac.uk/6768/1/Marres_Weltrevede_Scraping_the_Social_draft.pdf\n",
    "\n",
    "Even if scraping is legal, it might not be ethical. Scraping calls a server that is not designed for the transference of data the way an API is. As such, many repeated calls (from bots) to a website for the purpose of scraping data might overwhelm the server, keeping the website's owners from being able to achieve their purpose for having the website. This [article by James Densmore](https://towardsdatascience.com/ethics-in-web-scraping-b96b18136f01) outlines some ethical considerations for scrapers and for website owners, and lays out the following code of conduct: \n",
    "\n",
    "\"I, the web scraper will live by the following principles:\n",
    "\n",
    "* If you have a public API that provides the data I’m looking for, I’ll use it and avoid scraping all together.\n",
    "\n",
    "* I will always provide a User Agent string that makes my intentions clear and provides a way for you to contact me with questions or concerns.\n",
    "\n",
    "* I will request data at a reasonable rate. I will strive to never be confused for a DDoS attack.\n",
    "\n",
    "* I will only save the data I absolutely need from your page. If all I need it OpenGraph meta-data, that’s all I’ll keep.\n",
    "\n",
    "* I will respect any content I do keep. I’ll never pass it off as my own.\n",
    "\n",
    "* I will look for ways to return value to you. Maybe I can drive some (real) traffic to your site or credit you in an article or post.\n",
    "\n",
    "* I will respond in a timely fashion to your outreach and work with you towards a resolution.\n",
    "\n",
    "* I will scrape for the purpose of creating new value from the data, not to duplicate it.\n",
    "\n",
    " . . . . I, the site owner will live by the following principles:\n",
    "\n",
    "* I will allow ethical scrapers to access my site as long as they are not a burden on my site’s performance.\n",
    "\n",
    "* I will respect transparent User Agent strings rather than blocking them and encouraging use of scrapers masked as human visitors.\n",
    "\n",
    "* I will reach out to the owner of the scraper (thanks to their ethical User Agent string) before blocking permanently. A temporary block is acceptable in the case of site performance or ethical concerns.\n",
    "\n",
    "* I understand that scrapers are a reality of the open web.\n",
    "\n",
    "* I will consider public APIs to provide data as an alternative to scrapers.\"\n",
    "\n",
    "In general, while scraping appears to exist in a legal and ethical grey area, there is a lot of litigation and many arguments that suggest that once information is posted publically on a website, that there is no longer an expectation of privacy, and the data is open for anyone to use. But be careful when you use web scraping! If there IS an expectation of privacy, such as for any website with a password or other restrictions on access, then the legality and ethics of web scraping are much more dubious. If an API is available, it's available for a reason, and it's the correct ethical decision to use the API instead of scraping. Use care and judgment."
   ]
  },
  {
   "cell_type": "markdown",
   "metadata": {},
   "source": [
    "## <a name=\"prevent\"></a> How Websites Prevent You From Scraping\n",
    "This discussion follows the excellent overview by a Stack Overflow and GitHub contributor with the username JonasCz (I wish I knew this user's real name!) on [how to prevent web scraping](https://github.com/JonasCz/How-To-Prevent-Scraping/blob/master/README.md).\n",
    "\n",
    "To understand the restrictions and challenges you will encounter when scraping data, put yourself in the position of a website's owner:\n",
    "\n",
    "If you own and maintain a website, there are many reasons why you might want to prevent web scraping bots from accessing the data on your website. Maybe the bots will overload the traffic to your site and make it impossible for your website to work as you intend. You might be running a business through this website and sharing the data in mass transfers would undercut your business. For whatever reason, you are now faced with a challenge: how to you prevent automated scraping of the data on your webpage while still allowing individual customers to view your website?\n",
    "\n",
    "Web scraping will require issuing HTTP requests to a particular web address with a tool like `requests`, sometimes many times in a short period. Every HTTP request is logged by the server that receives the request, and these logs contain the IP address of the entity making the request. If too many requests are made by the same IP address, the server can block that IP address. The coding logic to automatically identify and block overactive IP addresses is simple, so many websites include these security measures. Some blocks are temporary, placing a rate limit on these requests to slow down the scrapers, and some blocks reroute scrapers through a CAPTCHA (which stands for \"Completely Automated Test to Tell Computers and Humans Apart\") to prevent robots like a scraper from accessing the website. JonasCz recommends that these security measures look at other factors as well: the speed of actions on the website, the amount of data requested, and other factors that can identify a user when the IP address is masked.\n",
    "\n",
    "Stronger gates, such as making users register for a username and password with email confirmation to use your website, are effective against scraping bots. But they also turn away individuals who wouldn't want to jump through those hoops. Saving all text as images on your server will prevent bots from accessing the text very easily, but it makes the website harder to use and violates regulations that protect people with disabilities.\n",
    "\n",
    "Instead, JonasCz recommends building your website in a way that never reveals the entirety of the data you own, and never reveals the private API endpoints you use to display the data. Also, web scrapers are fragile: they are built to pull data from the specific HTML structure of a particular website. Changing the HTML code frequently or using different versions of the code based on geographic location will break the scrapers that are built for that code. JonasCz also suggests adding \"honeypot\" links to the HTML code that will not be displayed to legitimate users but will be followed by scrapers that recursively follow links, and taking action against the agents that follow these links: block their IP addresses, require a CAPTCHA, or deliver fake data.\n",
    "\n",
    "One important piece of information in a request is the user agent header (which we discuss in more detail [below](#useragent)). JonasCz recommends looking at this information and blocking requests when the user agent is blank or matches information from agents that have previously been identified as malicious bots.\n",
    "\n",
    "Understanding the steps you would take to protect your data from bots if you owned a website, you should have greater insight into why a web scraping endeavor may fail. Your web scraper might not be malicious, but might still violate the rules that the website owner setup to guard against bots. These rules are usually listed explicitly in a file on the server, usually called `robots.txt`. Some tips for reading and understanding a `robots.txt` file are here: https://www.promptcloud.com/blog/how-to-read-and-respect-robots-file/\n",
    "\n",
    "For example, in this document we will be scraping data on the playlist of a radio station from https://spinitron.com/. This website has a `robots.txt` file here: https://spinitron.com/robots.txt, which reads:\n",
    "```\n",
    "User-agent: *\n",
    "Crawl-delay: 10\n",
    "Request-rate: 1/10\n",
    "```\n",
    "The `User-agent: *` line tells us that the next two lines apply to all user agent strings. `Crawl-delay: 10` places a limit on the frequency with which our scraper can make a request from this website. In this case, individual requests must be made 10 second apart. `Request-rate: 1/10` tells us that our scraper is only allowed to access one page every 10 seconds, and that we are not allowed to make requests from more than one page at the same time."
   ]
  },
  {
   "cell_type": "markdown",
   "metadata": {},
   "source": [
    "## <a name=\"useragent\"></a> Using `requests` with a User Agent Header\n",
    "As the articles by James Densmore and JonasCz described, requests are much more likely to get blocked by websites if the request does not specify a header that contains a user agent. An HTTP header is a parameter that gets sent along with the HTTP request that contains metadata about the request. A user agent header contains contact and identification information about the person making the request. If there is any issue with your web scraper, you want to give the website owner a chance to contact you directly about that problem. If you do not feel comfortable being contacted by the website's owner, you should reconsider whether you should be scraping that website.\n",
    "\n",
    "Fortunately, it is straightforward to include headers in a GET request using `requests`: just use the `headers` argument. First, we import the relevant libraries:"
   ]
  },
  {
   "cell_type": "code",
   "execution_count": 1,
   "metadata": {},
   "outputs": [],
   "source": [
    "import numpy as np\n",
    "import pandas as pd\n",
    "import requests"
   ]
  },
  {
   "cell_type": "markdown",
   "metadata": {},
   "source": [
    "In module 4 we issued GET requests from the Wikipedia API as an example."
   ]
  },
  {
   "cell_type": "code",
   "execution_count": 2,
   "metadata": {},
   "outputs": [
    {
     "data": {
      "text/plain": [
       "<Response [200]>"
      ]
     },
     "execution_count": 2,
     "metadata": {},
     "output_type": "execute_result"
    }
   ],
   "source": [
    "r = requests.get(\"https://en.wikipedia.org/w/api.php\")\n",
    "r"
   ]
  },
  {
   "cell_type": "markdown",
   "metadata": {},
   "source": [
    "To add a user agent string, I use the following code:"
   ]
  },
  {
   "cell_type": "code",
   "execution_count": 3,
   "metadata": {},
   "outputs": [
    {
     "data": {
      "text/plain": [
       "<Response [200]>"
      ]
     },
     "execution_count": 3,
     "metadata": {},
     "output_type": "execute_result"
    }
   ],
   "source": [
    "headers = {'user-agent': 'Kropko class example (jkropko@virginia.edu)'}\n",
    "r = requests.get(\"https://en.wikipedia.org/w/api.php\", headers = headers)\n",
    "r"
   ]
  },
  {
   "cell_type": "markdown",
   "metadata": {},
   "source": [
    "What information needs to go into a user agent header? Different resources have different information about that. According to [Amazon Web Services](https://docs.developer.amazonservices.com/en_US/dev_guide/DG_UserAgentHeader.html), a user agent should identify your application, its version number, and programming language. So a user agent should look like this:"
   ]
  },
  {
   "cell_type": "code",
   "execution_count": 4,
   "metadata": {},
   "outputs": [
    {
     "data": {
      "text/plain": [
       "<Response [200]>"
      ]
     },
     "execution_count": 4,
     "metadata": {},
     "output_type": "execute_result"
    }
   ],
   "source": [
    "headers = {'user-agent': 'Kropko class example version 1.0 (jkropko@virginia.edu) (Language=Python 3.8.2; Platform=Mac OSX 10.15.5)'}\n",
    "r = requests.get(\"https://en.wikipedia.org/w/api.php\", headers = headers)\n",
    "r"
   ]
  },
  {
   "cell_type": "markdown",
   "metadata": {},
   "source": [
    "Including a user agent is not hard, and it goes a long way towards alleviating the anxieties that website owners have about dealing with your web scraping code. It is a good practice to cultivate into a habit. "
   ]
  },
  {
   "cell_type": "markdown",
   "metadata": {},
   "source": [
    "## <a name=\"beausoup\"></a> Using `BeautifulSoup()` (Example: WNRN, Charlottesville's Legendary Radio Station)\n",
    "WNRN is a legendary radio station, and it's based right here in Charlottesville at 91.9 FM (and streaming online at www.wnrn.org). It's commercial-free, with only a few interruptions for local nonprofits to tell you about cool things happening in town. They play a mix of new and classic alternative rock and R&B. They emphasize music for bands coming to play at local venues. And they play the Grateful Dead on Saturday mornings. You should be listening to WNRN!\n",
    "\n",
    "<center><img src=\"https://upload.wikimedia.org/wikipedia/en/thumb/0/0e/WNRN-FM_2014.PNG/200px-WNRN-FM_2014.PNG\" width=\"300\" height=\"300\" class=\"center\"></img></center>\n",
    "\n",
    "The playlist of the songs that WNRN has played in the last few hours is here: https://spinitron.com/WNRN/. I want to scrape the data off this website. I also want to scrape the data off of the additional playlists that this website links to, to collect as much data as possible. Our goal in this example is to create a dataframe of each song WNRN has played, the artist, the album, and the time each song was played.\n",
    "\n",
    "The process involves four steps:\n",
    "\n",
    "1. Download the raw text of the HTML code for the website we want to scrape using the `requests` library.\n",
    "\n",
    "2. Use the `BeautifulSoup()` function from the `bs4` library to parse the raw text so that Python can understand, search through, and operate on the HTML tags from string.\n",
    "\n",
    "3. Use methods associated with `BeautifulSoup()` to extract the data we need from the HTML code.\n",
    "\n",
    "4. Place the data into a `pandas` data frame."
   ]
  },
  {
   "cell_type": "markdown",
   "metadata": {},
   "source": [
    "### <a name=\"html\"></a> Downloading and Understanding Raw HTML\n",
    "For this example, I first download the HTML that exists on https://spinitron.com/WNRN using the `requests.get()` function. To be ethical and to help this website's owners know that I am not a malicious actor, I also specify a user agent string. "
   ]
  },
  {
   "cell_type": "code",
   "execution_count": 5,
   "metadata": {},
   "outputs": [
    {
     "data": {
      "text/plain": [
       "<Response [200]>"
      ]
     },
     "execution_count": 5,
     "metadata": {},
     "output_type": "execute_result"
    }
   ],
   "source": [
    "url = \"https://spinitron.com/WNRN\"\n",
    "headers = {'user-agent': 'Kropko class example (jkropko@virginia.edu)'}\n",
    "r = requests.get(url, headers=headers)\n",
    "r"
   ]
  },
  {
   "cell_type": "markdown",
   "metadata": {},
   "source": [
    "The raw HTML code contains a series of text fragments that look like this,\n",
    "```\n",
    "<tag attribute=\"value\"> Navigable string </tag>\n",
    "```\n",
    "where `tag`, `attribute`, `\"value\"`, and `Navigable string` are replaced by specific parameters and data that control the content and presentation of the webpage that gets displayed in a web browser. For example, here are the first 1000 characters of the raw text from WNRN's playlist:"
   ]
  },
  {
   "cell_type": "code",
   "execution_count": 33,
   "metadata": {},
   "outputs": [
    {
     "name": "stdout",
     "output_type": "stream",
     "text": [
      "\n",
      "<!doctype html><html lang=\"en\">\n",
      "<head>\n",
      "    <meta charset=\"utf-8\">\n",
      "    <meta http-equiv=\"X-UA-Compatible\" content=\"IE=edge\">\n",
      "    <meta name=\"viewport\" content=\"width=device-width, initial-scale=1,maximum-scale=1\">\n",
      "    <title>WNRN – Independent Music Radio</title>\n",
      "    <meta name=\"description\" content=\"A member supported Independent Music Radio Station serving Central Virginia and the Shenandoah Valley\">\n",
      "\n",
      "    <link rel=\"apple-touch-icon\" href=\"apple-touch-icon.png\">\n",
      "                <meta name=\"csrf-param\" content=\"_csrf\">\n",
      "<meta name=\"csrf-token\" content=\"2dDjfP_QL-ckC4pxxRHzuVUt_k5hCg14icxrhuPZZsewlIcQnL1-kBd64SKSIpnIMxmfPFVpRTvaniDpj4pXrA==\">\n",
      "\n",
      "    <meta property=\"og:url\" content=\"/WNRN/\">\n",
      "<meta property=\"og:title\" content=\"WNRN – Independent Music Radio\">\n",
      "<meta property=\"og:description\" content=\"A member supported Independent Music Radio Station serving Central Virginia and the Shenandoah Valley\">\n",
      "<meta property=\"og:image\" content=\"https://spinitron.com/images/Station/13/1326-img_logo.2\n"
     ]
    }
   ],
   "source": [
    "print(r.text[0:1000])"
   ]
  },
  {
   "cell_type": "markdown",
   "metadata": {},
   "source": [
    "**Tags** specify how the data contained within the page are organized and how the visual elements on this page should look. Tags are designated by opening and closing angle braces, < and >. In the HTML code displayed above, there are tags named \n",
    "\n",
    "* `<html>`, which tells browsers that the following code is written in HTML, \n",
    "* `<meta>`, which defines metadata in the document that help govern how the output shold be displayed in the browser, \n",
    "* `<title>`, which sets the title of the document, and \n",
    "* `<link>`, which pulls data or images from external resources for later use. \n",
    "\n",
    "To see what other HTML tags do, look at the list on https://www.w3schools.com/TAGs/. \n",
    "\n",
    "In some cases the tag operates on the text that immediately follows, and a closing tag `</tag>` frames the text that gets operated on by the tag. The text in between the opening and closing tag is called the **navigable string**. For example, the tag `<title>WNRN – Independent Music Radio</title>` specifies that \"WNRN – Independent Music Radio\", and only this string, is the title.\n",
    "\n",
    "Some tags have **attributes**, which are arguments listed inside an opening tag to modify the behavior of that tag or to attach relevant data to the tag. The first `<html>` tag listed above contains an attribute `lang` with a value `\"en\"` that specifies that this document contains HTML code in English.\n",
    "\n"
   ]
  },
  {
   "cell_type": "markdown",
   "metadata": {},
   "source": [
    "### <a name=\"parse\"></a> Parsing Raw HTML Using `BeautifulSoup()`\n",
    "The `requests.get()` function only downloads the raw text of the HTML code, but it does not yet understand the logic and organization of the HTML code. Getting Python to register text as a particular coding standard is called **parsing** the code. We've parsed code into Python before with JSON data. We used `requests.get()` to download the JSON formatted data, but we needed `json.loads()` to parse the data in order to be able to navigate the branches of the JSON tree. \n",
    "\n",
    "There are two widely used Python libraries for parsing HTML data: `bs4` which contains the `BeautifulSoup()` function, and `selenium`. `BeautifulSoup()` works with raw text, but cannot access websites themselves (we use `requests.get()` for that). In order to access the data on a website, the data needs to be visible in the raw HTML that `requests.get()` returns. If there are measures taken by a website to hide that data, possibly by calling server-side Javascript to populate data fields, or by saving data as image files, then we won't be able to access the data with an HTML parser. `selenium` has more features to extract more complicated data and circumvent anti-scraping measures, such as taking a screenshot of the webpage in a browser and using optical character recognition (OCR) to pull data directly from the image. However, `selenium` requires each request to be loaded in a web browser, so it can be quite a bit slower than `BeautifulSoup()`. If you are interested in learning how to use `selenium`, see this guide: https://selenium-python.readthedocs.io/. Here we will be using `BeautifulSoup()`.\n",
    "\n",
    "First I import the `BeautifulSoup()` function:"
   ]
  },
  {
   "cell_type": "code",
   "execution_count": 7,
   "metadata": {},
   "outputs": [],
   "source": [
    "from bs4 import BeautifulSoup"
   ]
  },
  {
   "cell_type": "markdown",
   "metadata": {},
   "source": [
    "To use it, we pass the `.text` attribute of the `requests.get()` output from https://spinitron.com/WNRN to `BeautifulSoup()` (which I saved as `r.text` above). This function can parse either HTML or XML code, so the second argument should specify HTML:"
   ]
  },
  {
   "cell_type": "code",
   "execution_count": 8,
   "metadata": {},
   "outputs": [],
   "source": [
    "wnrn = BeautifulSoup(r.text, 'html')"
   ]
  },
  {
   "cell_type": "markdown",
   "metadata": {},
   "source": [
    "Now that the https://spinitron.com/WNRN source code is registered as HTML code in Python, we can begin executing commands to navigate the organizational structure of the code and extract data. "
   ]
  },
  {
   "cell_type": "markdown",
   "metadata": {},
   "source": [
    "### <a name=\"tags\"></a> Searching for HTML Tags and Extracting Data\n",
    "While HTML is a coding language, it does not force coders to follow very strict templates. There's a lot of flexibility and creativity possible for HTML programmers, and as such, there is no one universal method for extracting data from HTML. The best approach is to open a browser window, navigate to the webpage you want to scrape, and \"view page source\". (Different web browsers have different ways to do that. On Mozilla Firefox, right click somewhere on the page other than an active link, and \"view page source\" should be an option.) The source will display the raw HTML code that generates the page. You will need to search through this code to find examples of the data points you intend to collect, possibly using control+F to search for specific values. Once you find the data you need, make note of the tags that surround the data and use the tools we will describe next to extract the data.\n",
    "\n",
    "The parsable HTML `BeautifulSoup()` output, `wnrn`, has important methods and attributes that we will use to extract the data we want. First, we can use the name of a tag as an attribute to extract the first occurrence of that tag. Here we extract the first `<meta>` tag:"
   ]
  },
  {
   "cell_type": "code",
   "execution_count": 10,
   "metadata": {},
   "outputs": [
    {
     "data": {
      "text/plain": [
       "<meta charset=\"utf-8\"/>"
      ]
     },
     "execution_count": 10,
     "metadata": {},
     "output_type": "execute_result"
    }
   ],
   "source": [
    "metatag = wnrn.meta\n",
    "metatag"
   ]
  },
  {
   "cell_type": "markdown",
   "metadata": {},
   "source": [
    "This tag stores its attributes as a list, so we can extract the value of an attribute by calling the name of that attribute as follows:"
   ]
  },
  {
   "cell_type": "code",
   "execution_count": 11,
   "metadata": {},
   "outputs": [
    {
     "data": {
      "text/plain": [
       "'utf-8'"
      ]
     },
     "execution_count": 11,
     "metadata": {},
     "output_type": "execute_result"
    }
   ],
   "source": [
    "metatag['charset']"
   ]
  },
  {
   "cell_type": "markdown",
   "metadata": {},
   "source": [
    "If a tag has a navigable string, we can extract that with the `.string` attribute of a particular tag. For example, to extract the title, we start with the `<title>` tag:"
   ]
  },
  {
   "cell_type": "code",
   "execution_count": 12,
   "metadata": {},
   "outputs": [
    {
     "data": {
      "text/plain": [
       "<title>WNRN – Independent Music Radio</title>"
      ]
     },
     "execution_count": 12,
     "metadata": {},
     "output_type": "execute_result"
    }
   ],
   "source": [
    "titletag = wnrn.title\n",
    "titletag"
   ]
  },
  {
   "cell_type": "markdown",
   "metadata": {},
   "source": [
    "Then we extract the title as follows:"
   ]
  },
  {
   "cell_type": "code",
   "execution_count": 13,
   "metadata": {},
   "outputs": [
    {
     "data": {
      "text/plain": [
       "'WNRN – Independent Music Radio'"
      ]
     },
     "execution_count": 13,
     "metadata": {},
     "output_type": "execute_result"
    }
   ],
   "source": [
    "titletag.string"
   ]
  },
  {
   "cell_type": "markdown",
   "metadata": {},
   "source": [
    "Our goal in this example is to extract the artist, song, album, and time played for every song played on WNRN. I look in the raw HTML source code for the first instance of an artist. These data are contained in the `<span>` tags:"
   ]
  },
  {
   "cell_type": "code",
   "execution_count": 14,
   "metadata": {},
   "outputs": [
    {
     "data": {
      "text/plain": [
       "<span class=\"artist\">Khruangbin &amp; Leon Bridges</span>"
      ]
     },
     "execution_count": 14,
     "metadata": {},
     "output_type": "execute_result"
    }
   ],
   "source": [
    "spantag = wnrn.span\n",
    "spantag"
   ]
  },
  {
   "cell_type": "markdown",
   "metadata": {},
   "source": [
    "Calling one tag is not especially useful, because we generally want to extract all of the relevant data on a page. For that, we can use the `.find_next()` and `.find_all()` methods, both of which are very literal. The next `<span>` tag in the HTML code contains the song associated with the artist:"
   ]
  },
  {
   "cell_type": "code",
   "execution_count": 15,
   "metadata": {},
   "outputs": [
    {
     "data": {
      "text/plain": [
       "<span class=\"song\">Texas Sun</span>"
      ]
     },
     "execution_count": 15,
     "metadata": {},
     "output_type": "execute_result"
    }
   ],
   "source": [
    "spantag.find_next()"
   ]
  },
  {
   "cell_type": "markdown",
   "metadata": {},
   "source": [
    "And the next occurrence of `<span>` contains the album name (under `\"release\"`):"
   ]
  },
  {
   "cell_type": "code",
   "execution_count": 16,
   "metadata": {},
   "outputs": [
    {
     "data": {
      "text/plain": [
       "<div class=\"info\"><span class=\"release\">Texas Sun</span></div>"
      ]
     },
     "execution_count": 16,
     "metadata": {},
     "output_type": "execute_result"
    }
   ],
   "source": [
    "spantag.find_next().find_next()"
   ]
  },
  {
   "cell_type": "markdown",
   "metadata": {},
   "source": [
    "To find all occurrences of the `<span>` tag, organized in a list, use `.find_all()` and provide the tag as the argument:"
   ]
  },
  {
   "cell_type": "code",
   "execution_count": 17,
   "metadata": {},
   "outputs": [
    {
     "data": {
      "text/plain": [
       "[<span class=\"artist\">Khruangbin &amp; Leon Bridges</span>,\n",
       " <span class=\"song\">Texas Sun</span>,\n",
       " <span class=\"release\">Texas Sun</span>,\n",
       " <span class=\"artist\">Talking Heads</span>,\n",
       " <span class=\"song\">Burning Down The House</span>,\n",
       " <span class=\"release\">Speaking In Tongues</span>,\n",
       " <span class=\"artist\">Steve Earle</span>,\n",
       " <span class=\"song\">You're Still Standin' There</span>,\n",
       " <span class=\"release\">I Feel Alright</span>,\n",
       " <span class=\"artist\">Rookie</span>,\n",
       " <span class=\"song\">Sunglasses</span>,\n",
       " <span class=\"release\">Rookie</span>,\n",
       " <span class=\"artist\">Heartless Bastards</span>,\n",
       " <span class=\"song\">Parted Ways</span>,\n",
       " <span class=\"release\">Arrows</span>,\n",
       " <span class=\"artist\">Leo Kottke</span>,\n",
       " <span class=\"song\">Stolen</span>,\n",
       " <span class=\"release\">Try And Stop Me</span>,\n",
       " <span class=\"artist\">Stray Fossa</span>,\n",
       " <span class=\"song\">It's Nothing</span>,\n",
       " <span class=\"release\">(Single)</span>,\n",
       " <span class=\"artist\">The Raconteurs</span>,\n",
       " <span class=\"song\">Help Me Stranger</span>,\n",
       " <span class=\"release\">Help Us Stranger</span>,\n",
       " <span class=\"artist\">My Morning Jacket</span>,\n",
       " <span class=\"song\">Compound Fracture</span>,\n",
       " <span class=\"release\">The Waterfall</span>,\n",
       " <span class=\"artist\">Drive-By Truckers</span>,\n",
       " <span class=\"song\">Armageddon's Back in Town</span>,\n",
       " <span class=\"release\">The Unraveling</span>,\n",
       " <span class=\"artist\">Boy and Bear</span>,\n",
       " <span class=\"song\">Southern Sun</span>,\n",
       " <span class=\"release\">Harlequin Dream</span>,\n",
       " <span class=\"artist\">Andy Jenkins</span>,\n",
       " <span class=\"song\">Dawn On</span>,\n",
       " <span class=\"release\">The Garden Opens</span>]"
      ]
     },
     "execution_count": 17,
     "metadata": {},
     "output_type": "execute_result"
    }
   ],
   "source": [
    "spanlist = wnrn.find_all(\"span\")\n",
    "spanlist"
   ]
  },
  {
   "cell_type": "markdown",
   "metadata": {},
   "source": [
    "Notice that the HTML source code distinguishes between the three types of datapoint with different `class` values. To limit this list to just the artists, we can specify the `\"artist\"` class as a second argument of `.find_all()`:"
   ]
  },
  {
   "cell_type": "code",
   "execution_count": 18,
   "metadata": {},
   "outputs": [
    {
     "data": {
      "text/plain": [
       "[<span class=\"artist\">Khruangbin &amp; Leon Bridges</span>,\n",
       " <span class=\"artist\">Talking Heads</span>,\n",
       " <span class=\"artist\">Steve Earle</span>,\n",
       " <span class=\"artist\">Rookie</span>,\n",
       " <span class=\"artist\">Heartless Bastards</span>,\n",
       " <span class=\"artist\">Leo Kottke</span>,\n",
       " <span class=\"artist\">Stray Fossa</span>,\n",
       " <span class=\"artist\">The Raconteurs</span>,\n",
       " <span class=\"artist\">My Morning Jacket</span>,\n",
       " <span class=\"artist\">Drive-By Truckers</span>,\n",
       " <span class=\"artist\">Boy and Bear</span>,\n",
       " <span class=\"artist\">Andy Jenkins</span>]"
      ]
     },
     "execution_count": 18,
     "metadata": {},
     "output_type": "execute_result"
    }
   ],
   "source": [
    "artistlist = wnrn.find_all(\"span\", \"artist\")\n",
    "artistlist"
   ]
  },
  {
   "cell_type": "markdown",
   "metadata": {},
   "source": [
    "Likewise we can create lists of the songs:"
   ]
  },
  {
   "cell_type": "code",
   "execution_count": 19,
   "metadata": {},
   "outputs": [
    {
     "data": {
      "text/plain": [
       "[<span class=\"song\">Texas Sun</span>,\n",
       " <span class=\"song\">Burning Down The House</span>,\n",
       " <span class=\"song\">You're Still Standin' There</span>,\n",
       " <span class=\"song\">Sunglasses</span>,\n",
       " <span class=\"song\">Parted Ways</span>,\n",
       " <span class=\"song\">Stolen</span>,\n",
       " <span class=\"song\">It's Nothing</span>,\n",
       " <span class=\"song\">Help Me Stranger</span>,\n",
       " <span class=\"song\">Compound Fracture</span>,\n",
       " <span class=\"song\">Armageddon's Back in Town</span>,\n",
       " <span class=\"song\">Southern Sun</span>,\n",
       " <span class=\"song\">Dawn On</span>]"
      ]
     },
     "execution_count": 19,
     "metadata": {},
     "output_type": "execute_result"
    }
   ],
   "source": [
    "songlist = wnrn.find_all(\"span\", \"song\")\n",
    "songlist"
   ]
  },
  {
   "cell_type": "markdown",
   "metadata": {},
   "source": [
    "And a list for the albums:"
   ]
  },
  {
   "cell_type": "code",
   "execution_count": 20,
   "metadata": {},
   "outputs": [
    {
     "data": {
      "text/plain": [
       "[<span class=\"release\">Texas Sun</span>,\n",
       " <span class=\"release\">Speaking In Tongues</span>,\n",
       " <span class=\"release\">I Feel Alright</span>,\n",
       " <span class=\"release\">Rookie</span>,\n",
       " <span class=\"release\">Arrows</span>,\n",
       " <span class=\"release\">Try And Stop Me</span>,\n",
       " <span class=\"release\">(Single)</span>,\n",
       " <span class=\"release\">Help Us Stranger</span>,\n",
       " <span class=\"release\">The Waterfall</span>,\n",
       " <span class=\"release\">The Unraveling</span>,\n",
       " <span class=\"release\">Harlequin Dream</span>,\n",
       " <span class=\"release\">The Garden Opens</span>]"
      ]
     },
     "execution_count": 20,
     "metadata": {},
     "output_type": "execute_result"
    }
   ],
   "source": [
    "albumlist = wnrn.find_all(\"span\", \"release\")\n",
    "albumlist"
   ]
  },
  {
   "cell_type": "markdown",
   "metadata": {},
   "source": [
    "Finally, we want to also extract the times each song was played. I look at the HTML code and find an example of the play time. These times are stored in the `<td>` tag with `class=\"spin-time\"`. I create a list of these times:"
   ]
  },
  {
   "cell_type": "code",
   "execution_count": 21,
   "metadata": {},
   "outputs": [
    {
     "data": {
      "text/plain": [
       "[<td class=\"spin-time\"><a href=\"/WNRN/pl/10646322/WNRN?sp=220561632\">6:43 AM</a></td>,\n",
       " <td class=\"spin-time\"><a href=\"/WNRN/pl/10646322/WNRN?sp=220561344\">6:39 AM</a></td>,\n",
       " <td class=\"spin-time\"><a href=\"/WNRN/pl/10646322/WNRN?sp=220561065\">6:36 AM</a></td>,\n",
       " <td class=\"spin-time\"><a href=\"/WNRN/pl/10646322/WNRN?sp=220560687\">6:31 AM</a></td>,\n",
       " <td class=\"spin-time\"><a href=\"/WNRN/pl/10646322/WNRN?sp=220560273\">6:26 AM</a></td>,\n",
       " <td class=\"spin-time\"><a href=\"/WNRN/pl/10646322/WNRN?sp=220560075\">6:23 AM</a></td>,\n",
       " <td class=\"spin-time\"><a href=\"/WNRN/pl/10646322/WNRN?sp=220559829\">6:20 AM</a></td>,\n",
       " <td class=\"spin-time\"><a href=\"/WNRN/pl/10646322/WNRN?sp=220559532\">6:16 AM</a></td>,\n",
       " <td class=\"spin-time\"><a href=\"/WNRN/pl/10646322/WNRN?sp=220559271\">6:12 AM</a></td>,\n",
       " <td class=\"spin-time\"><a href=\"/WNRN/pl/10646322/WNRN?sp=220559001\">6:08 AM</a></td>,\n",
       " <td class=\"spin-time\"><a href=\"/WNRN/pl/10646322/WNRN?sp=220558602\">6:04 AM</a></td>,\n",
       " <td class=\"spin-time\"><a href=\"/WNRN/pl/10646322/WNRN?sp=220558230\">6:00 AM</a></td>]"
      ]
     },
     "execution_count": 21,
     "metadata": {},
     "output_type": "execute_result"
    }
   ],
   "source": [
    "timelist = wnrn.find_all(\"td\", \"spin-time\")\n",
    "timelist"
   ]
  },
  {
   "cell_type": "markdown",
   "metadata": {},
   "source": [
    "Sometimes the information we need exists in a particular tag, but only when a specific attribute is present. For example, in the WNRN playlist HTML there are many `<a>` tags, but only some of those tags include a `title` attribute. To extract all of the `<a>` tags with a `title` attribute, specify `title=True` in the call to `.find_all()`:"
   ]
  },
  {
   "cell_type": "code",
   "execution_count": 34,
   "metadata": {},
   "outputs": [
    {
     "name": "stdout",
     "output_type": "stream",
     "text": [
      "[<a class=\"buy-link\" data-vendor=\"apple\" href=\"#\" target=\"_blank\" title='View \"Khruangbin &amp; Leon Bridges - Texas Sun\" on Apple'><div alt='View \"Khruangbin &amp; Leon Bridges - Texas Sun\" on Apple' class=\"buy-icon buy-icon-apple\"></div></a>, <a class=\"buy-link\" data-vendor=\"amazon\" href=\"#\" target=\"_blank\" title='View \"Khruangbin &amp; Leon Bridges - Texas Sun\" on Amazon'><div alt='View \"Khruangbin &amp; Leon Bridges - Texas Sun\" on Amazon' class=\"buy-icon buy-icon-amazon\"></div></a>, <a class=\"buy-link\" data-vendor=\"spotify\" href=\"#\" target=\"_blank\" title='View \"Khruangbin &amp; Leon Bridges - Texas Sun\" on Spotify'><div alt='View \"Khruangbin &amp; Leon Bridges - Texas Sun\" on Spotify' class=\"buy-icon buy-icon-spotify\"></div></a>, <a class=\"buy-link\" data-vendor=\"apple\" href=\"#\" target=\"_blank\" title='View \"Talking Heads - Burning Down The House\" on Apple'><div alt='View \"Talking Heads - Burning Down The House\" on Apple' class=\"buy-icon buy-icon-apple\"></div></a>, <a class=\"buy-link\" data-vendor=\"amazon\" href=\"#\" target=\"_blank\" title='View \"Talking Heads - Burning Down The House\" on Amazon'><div alt='View \"Talking Heads - Burning Down The House\" on Amazon' class=\"buy-icon buy-icon-amazon\"></div></a>]\n"
     ]
    }
   ],
   "source": [
    "atags_title = wnrn.find_all(\"a\", title=True)\n",
    "print(atags_title[0:5]) # just show the first 6 elements"
   ]
  },
  {
   "cell_type": "markdown",
   "metadata": {},
   "source": [
    "### <a name=\"dataframe\"></a> Constructing a Data Frame from HTML Data\n",
    "Next we need to place these data into a clean data frame. For that, we will need to keep the valid data while dropping the HTML tags. We stored the tags with the artists, songs, albums, and times in separate lists. Every name is stored as a navigable string in the HTML tags, so to extract these names we need to loop across the elements of the list. The simplest loop for this task is called a **list comprehension**, which has the following syntax:\n",
    "\n",
    "*newlist* `= [` *expression* `for` *item* `in` *oldlist* `if` *condition* `]`\n",
    "\n",
    "In this syntax, we are creating a new list by iteratively performing operations on the elements of an existing list (*oldlist*). *item* is a token that we will use to represent one item of the existing list. *expression* is the same Python code we would use on a single element of the existing list, except we replace the name of the element with the token defined with *item*. Finally *condition* is an optional part of this code which sets a filter by which only certain elements of the old list are transformed and placed into the new list (there's an example of conditioning in a comprehension loop in the section on [spiders](#spider)).\n",
    "\n",
    "For example, to extract the navigable string from every element of `artistlist`, we can set *item* to `a`, *expression* to `a.string`, and *list* to `artistlist`:"
   ]
  },
  {
   "cell_type": "code",
   "execution_count": 23,
   "metadata": {},
   "outputs": [
    {
     "data": {
      "text/plain": [
       "['Khruangbin & Leon Bridges',\n",
       " 'Talking Heads',\n",
       " 'Steve Earle',\n",
       " 'Rookie',\n",
       " 'Heartless Bastards',\n",
       " 'Leo Kottke',\n",
       " 'Stray Fossa',\n",
       " 'The Raconteurs',\n",
       " 'My Morning Jacket',\n",
       " 'Drive-By Truckers',\n",
       " 'Boy and Bear',\n",
       " 'Andy Jenkins']"
      ]
     },
     "execution_count": 23,
     "metadata": {},
     "output_type": "execute_result"
    }
   ],
   "source": [
    "artists = [a.string for a in artistlist]\n",
    "artists"
   ]
  },
  {
   "cell_type": "markdown",
   "metadata": {},
   "source": [
    "Likewise, we extract the navigable strings for the songs, albums, and times:"
   ]
  },
  {
   "cell_type": "code",
   "execution_count": 24,
   "metadata": {},
   "outputs": [],
   "source": [
    "songs = [a.string for a in songlist]\n",
    "albums = [a.string for a in albumlist]\n",
    "times = [a.string for a in timelist]"
   ]
  },
  {
   "cell_type": "markdown",
   "metadata": {},
   "source": [
    "Finally, to construct a clean data frame, we create a dictionary that combines these lists and passes this dictionary to the `pd.DataFrame()` function:"
   ]
  },
  {
   "cell_type": "code",
   "execution_count": 25,
   "metadata": {},
   "outputs": [
    {
     "data": {
      "text/html": [
       "<div>\n",
       "<style scoped>\n",
       "    .dataframe tbody tr th:only-of-type {\n",
       "        vertical-align: middle;\n",
       "    }\n",
       "\n",
       "    .dataframe tbody tr th {\n",
       "        vertical-align: top;\n",
       "    }\n",
       "\n",
       "    .dataframe thead th {\n",
       "        text-align: right;\n",
       "    }\n",
       "</style>\n",
       "<table border=\"1\" class=\"dataframe\">\n",
       "  <thead>\n",
       "    <tr style=\"text-align: right;\">\n",
       "      <th></th>\n",
       "      <th>time</th>\n",
       "      <th>artist</th>\n",
       "      <th>song</th>\n",
       "      <th>album</th>\n",
       "    </tr>\n",
       "  </thead>\n",
       "  <tbody>\n",
       "    <tr>\n",
       "      <th>0</th>\n",
       "      <td>6:43 AM</td>\n",
       "      <td>Khruangbin &amp; Leon Bridges</td>\n",
       "      <td>Texas Sun</td>\n",
       "      <td>Texas Sun</td>\n",
       "    </tr>\n",
       "    <tr>\n",
       "      <th>1</th>\n",
       "      <td>6:39 AM</td>\n",
       "      <td>Talking Heads</td>\n",
       "      <td>Burning Down The House</td>\n",
       "      <td>Speaking In Tongues</td>\n",
       "    </tr>\n",
       "    <tr>\n",
       "      <th>2</th>\n",
       "      <td>6:36 AM</td>\n",
       "      <td>Steve Earle</td>\n",
       "      <td>You're Still Standin' There</td>\n",
       "      <td>I Feel Alright</td>\n",
       "    </tr>\n",
       "    <tr>\n",
       "      <th>3</th>\n",
       "      <td>6:31 AM</td>\n",
       "      <td>Rookie</td>\n",
       "      <td>Sunglasses</td>\n",
       "      <td>Rookie</td>\n",
       "    </tr>\n",
       "    <tr>\n",
       "      <th>4</th>\n",
       "      <td>6:26 AM</td>\n",
       "      <td>Heartless Bastards</td>\n",
       "      <td>Parted Ways</td>\n",
       "      <td>Arrows</td>\n",
       "    </tr>\n",
       "    <tr>\n",
       "      <th>5</th>\n",
       "      <td>6:23 AM</td>\n",
       "      <td>Leo Kottke</td>\n",
       "      <td>Stolen</td>\n",
       "      <td>Try And Stop Me</td>\n",
       "    </tr>\n",
       "    <tr>\n",
       "      <th>6</th>\n",
       "      <td>6:20 AM</td>\n",
       "      <td>Stray Fossa</td>\n",
       "      <td>It's Nothing</td>\n",
       "      <td>(Single)</td>\n",
       "    </tr>\n",
       "    <tr>\n",
       "      <th>7</th>\n",
       "      <td>6:16 AM</td>\n",
       "      <td>The Raconteurs</td>\n",
       "      <td>Help Me Stranger</td>\n",
       "      <td>Help Us Stranger</td>\n",
       "    </tr>\n",
       "    <tr>\n",
       "      <th>8</th>\n",
       "      <td>6:12 AM</td>\n",
       "      <td>My Morning Jacket</td>\n",
       "      <td>Compound Fracture</td>\n",
       "      <td>The Waterfall</td>\n",
       "    </tr>\n",
       "    <tr>\n",
       "      <th>9</th>\n",
       "      <td>6:08 AM</td>\n",
       "      <td>Drive-By Truckers</td>\n",
       "      <td>Armageddon's Back in Town</td>\n",
       "      <td>The Unraveling</td>\n",
       "    </tr>\n",
       "    <tr>\n",
       "      <th>10</th>\n",
       "      <td>6:04 AM</td>\n",
       "      <td>Boy and Bear</td>\n",
       "      <td>Southern Sun</td>\n",
       "      <td>Harlequin Dream</td>\n",
       "    </tr>\n",
       "    <tr>\n",
       "      <th>11</th>\n",
       "      <td>6:00 AM</td>\n",
       "      <td>Andy Jenkins</td>\n",
       "      <td>Dawn On</td>\n",
       "      <td>The Garden Opens</td>\n",
       "    </tr>\n",
       "  </tbody>\n",
       "</table>\n",
       "</div>"
      ],
      "text/plain": [
       "       time                     artist                         song  \\\n",
       "0   6:43 AM  Khruangbin & Leon Bridges                    Texas Sun   \n",
       "1   6:39 AM              Talking Heads       Burning Down The House   \n",
       "2   6:36 AM                Steve Earle  You're Still Standin' There   \n",
       "3   6:31 AM                     Rookie                   Sunglasses   \n",
       "4   6:26 AM         Heartless Bastards                  Parted Ways   \n",
       "5   6:23 AM                 Leo Kottke                       Stolen   \n",
       "6   6:20 AM                Stray Fossa                 It's Nothing   \n",
       "7   6:16 AM             The Raconteurs             Help Me Stranger   \n",
       "8   6:12 AM          My Morning Jacket            Compound Fracture   \n",
       "9   6:08 AM          Drive-By Truckers    Armageddon's Back in Town   \n",
       "10  6:04 AM               Boy and Bear                 Southern Sun   \n",
       "11  6:00 AM               Andy Jenkins                      Dawn On   \n",
       "\n",
       "                  album  \n",
       "0             Texas Sun  \n",
       "1   Speaking In Tongues  \n",
       "2        I Feel Alright  \n",
       "3                Rookie  \n",
       "4                Arrows  \n",
       "5       Try And Stop Me  \n",
       "6              (Single)  \n",
       "7      Help Us Stranger  \n",
       "8         The Waterfall  \n",
       "9        The Unraveling  \n",
       "10      Harlequin Dream  \n",
       "11     The Garden Opens  "
      ]
     },
     "execution_count": 25,
     "metadata": {},
     "output_type": "execute_result"
    }
   ],
   "source": [
    "mydict = {'time':times,\n",
    "          'artist':artists,\n",
    "         'song':songs,\n",
    "         'album':albums}\n",
    "wnrn_df = pd.DataFrame(mydict)\n",
    "wnrn_df"
   ]
  },
  {
   "cell_type": "markdown",
   "metadata": {},
   "source": [
    "## <a name=\"spider\"></a>Building a Spider\n",
    "At the bottom of the WNRN playlist on https://spinitron.com/WNRN/ there are links to older song playlists. Let's extend our example by building a **spider** to capture the data that exists on these links as well. A spider is a web scraper that follows links on a page automatically and scrapes from those links as well. \n",
    "\n",
    "I look at the page source for these links, and find that they are contained in a `<div class=\"recent-playlists\">` tag. I start by finding this tag. As there's only one occurrence, I can use `.find()` instead of `.find_all()`:"
   ]
  },
  {
   "cell_type": "code",
   "execution_count": 26,
   "metadata": {},
   "outputs": [
    {
     "data": {
      "text/plain": [
       "<div class=\"recent-playlists\">\n",
       "<h4>Recent</h4>\n",
       "<div class=\"grid-view\" id=\"w2\">\n",
       "<table class=\"table table-bordered table-narrow\"><tbody>\n",
       "<tr data-key=\"0\"><td class=\"show-time\">5:00 AM</td><td><strong><a href=\"/WNRN/pl/10646133/WNRN-4-4-20-5-00-AM\">WNRN 4/4/20, 5:00 AM</a></strong> with <a href=\"/WNRN/dj/104061/WNRN\">WNRN</a></td></tr>\n",
       "<tr data-key=\"1\"><td class=\"show-time\">4:00 AM</td><td><strong><a href=\"/WNRN/pl/10646058/WNRN-4-4-20-4-02-AM\">WNRN 4/4/20, 4:02 AM</a></strong> with <a href=\"/WNRN/dj/104061/WNRN\">WNRN</a></td></tr>\n",
       "<tr data-key=\"2\"><td class=\"show-time\">3:00 AM</td><td><strong><a href=\"/WNRN/pl/10645824/WNRN-4-4-20-3-01-AM\">WNRN 4/4/20, 3:01 AM</a></strong> with <a href=\"/WNRN/dj/104061/WNRN\">WNRN</a></td></tr>\n",
       "<tr data-key=\"3\"><td class=\"show-time\">12:00 AM</td><td><strong><a href=\"/WNRN/pl/10645245/WNRN\">WNRN</a></strong> (Music) with <a href=\"/WNRN/dj/104073/WNRN\">WNRN</a></td></tr>\n",
       "<tr data-key=\"4\"><td class=\"show-time\">8:00 PM</td><td><strong><a href=\"/WNRN/pl/10644264/WNRN\">WNRN</a></strong> (Music)</td></tr>\n",
       "</tbody></table>\n",
       "</div></div>"
      ]
     },
     "execution_count": 26,
     "metadata": {},
     "output_type": "execute_result"
    }
   ],
   "source": [
    "recent = wnrn.find(\"div\", \"recent-playlists\")\n",
    "recent"
   ]
  },
  {
   "cell_type": "markdown",
   "metadata": {},
   "source": [
    "Notice that all of the addresses we need are contained in `<a>` tags. We can extract these `<a>` tags with `.find_all()`:"
   ]
  },
  {
   "cell_type": "code",
   "execution_count": 27,
   "metadata": {},
   "outputs": [
    {
     "data": {
      "text/plain": [
       "[<a href=\"/WNRN/pl/10646133/WNRN-4-4-20-5-00-AM\">WNRN 4/4/20, 5:00 AM</a>,\n",
       " <a href=\"/WNRN/dj/104061/WNRN\">WNRN</a>,\n",
       " <a href=\"/WNRN/pl/10646058/WNRN-4-4-20-4-02-AM\">WNRN 4/4/20, 4:02 AM</a>,\n",
       " <a href=\"/WNRN/dj/104061/WNRN\">WNRN</a>,\n",
       " <a href=\"/WNRN/pl/10645824/WNRN-4-4-20-3-01-AM\">WNRN 4/4/20, 3:01 AM</a>,\n",
       " <a href=\"/WNRN/dj/104061/WNRN\">WNRN</a>,\n",
       " <a href=\"/WNRN/pl/10645245/WNRN\">WNRN</a>,\n",
       " <a href=\"/WNRN/dj/104073/WNRN\">WNRN</a>,\n",
       " <a href=\"/WNRN/pl/10644264/WNRN\">WNRN</a>]"
      ]
     },
     "execution_count": 27,
     "metadata": {},
     "output_type": "execute_result"
    }
   ],
   "source": [
    "recent_atags = recent.find_all(\"a\")\n",
    "recent_atags"
   ]
  },
  {
   "cell_type": "markdown",
   "metadata": {},
   "source": [
    "The resulting list contains the web endpoints we need, and also some web endpoints we don't need: we want the URLs that contain the string `/pl/` as these are playlists, and we want to exclude the URLs that contain the string `/dj/` as these pages refer to a particular DJ. We need a comprehension loop that loops across these elements, extracts the `href` attribute of the entries that include `/pl/`, and ignore the entries that include `/dj/`. We again use this syntax:\n",
    "\n",
    "*newlist* `= [` *expression* `for` *item* `in` *oldlist* `if` *condition* `]`\n",
    "\n",
    "In this case:\n",
    "\n",
    "* *newlist* is a list containing the URLs we want to direct our spider to. I call it `urls`.\n",
    "* *item* is one element of `recent_atags`, which I will call `pl`.\n",
    "* *expression* is code that extracts the web address from the `href` attribute of the `<a>` tag, so here the code would be `pl['href']`.\n",
    "* Finally, *condition* is a logical statement that should be `True` if the web address contains `/pl/` and `False` if the web address contains `/dj/`. Here, the conditional statement should be `if \"/pl/\" in pl['href']`. This code will look for the string `\"/pl/\"` inside the string called by `pl['href']` and return `True` or `False` depending on whether this string is found.\n",
    "\n",
    "Putting all this syntax together gives us our list of playlist URLs:"
   ]
  },
  {
   "cell_type": "code",
   "execution_count": 28,
   "metadata": {},
   "outputs": [
    {
     "data": {
      "text/plain": [
       "['/WNRN/pl/10646133/WNRN-4-4-20-5-00-AM',\n",
       " '/WNRN/pl/10646058/WNRN-4-4-20-4-02-AM',\n",
       " '/WNRN/pl/10645824/WNRN-4-4-20-3-01-AM',\n",
       " '/WNRN/pl/10645245/WNRN',\n",
       " '/WNRN/pl/10644264/WNRN']"
      ]
     },
     "execution_count": 28,
     "metadata": {},
     "output_type": "execute_result"
    }
   ],
   "source": [
    "wnrn_url = [pl['href'] for pl in recent_atags if \"/pl/\" in pl['href']]\n",
    "wnrn_url"
   ]
  },
  {
   "cell_type": "markdown",
   "metadata": {},
   "source": [
    "First, we need to collect all of the code we created above to extract the artist, song, album, and play times from the HTML code. We define a function that does all of this work. We specify one argument for this function, the URL, so that all the function needs is the URL and it can output a clean dataframe. I name the function `wnrn_spider()`:"
   ]
  },
  {
   "cell_type": "code",
   "execution_count": 29,
   "metadata": {},
   "outputs": [],
   "source": [
    "def wnrn_spider(url):\n",
    "    \"\"\"Perform web scraping for any WNRN playlist given the available link\"\"\"\n",
    "    \n",
    "    headers = {'user-agent': 'Kropko class example (jkropko@virginia.edu)'}\n",
    "    r = requests.get(url, headers=headers)\n",
    "    wnrn = BeautifulSoup(r.text, 'html')\n",
    "    \n",
    "    artistlist = wnrn.find_all(\"span\", \"artist\")\n",
    "    songlist = wnrn.find_all(\"span\", \"song\")\n",
    "    albumlist = wnrn.find_all(\"span\", \"release\")\n",
    "    timelist = wnrn.find_all(\"td\", \"spin-time\")\n",
    "    \n",
    "    artists = [a.string for a in artistlist]\n",
    "    songs = [a.string for a in songlist]\n",
    "    albums = [a.string for a in albumlist]\n",
    "    times = [a.string for a in timelist]\n",
    "    \n",
    "    mydict = {'time':times, 'artist':artists, 'song':songs, 'album':albums}\n",
    "    wnrn_df = pd.DataFrame(mydict)\n",
    "    \n",
    "    return wnrn_df\n"
   ]
  },
  {
   "cell_type": "markdown",
   "metadata": {},
   "source": [
    "We can pass any of the URLs we collected to our function and get the other playlists. We will have to add the domain \"https://spinitron.com\" to the beginning of each of the URLs we collected:"
   ]
  },
  {
   "cell_type": "code",
   "execution_count": 30,
   "metadata": {},
   "outputs": [
    {
     "data": {
      "text/html": [
       "<div>\n",
       "<style scoped>\n",
       "    .dataframe tbody tr th:only-of-type {\n",
       "        vertical-align: middle;\n",
       "    }\n",
       "\n",
       "    .dataframe tbody tr th {\n",
       "        vertical-align: top;\n",
       "    }\n",
       "\n",
       "    .dataframe thead th {\n",
       "        text-align: right;\n",
       "    }\n",
       "</style>\n",
       "<table border=\"1\" class=\"dataframe\">\n",
       "  <thead>\n",
       "    <tr style=\"text-align: right;\">\n",
       "      <th></th>\n",
       "      <th>time</th>\n",
       "      <th>artist</th>\n",
       "      <th>song</th>\n",
       "      <th>album</th>\n",
       "    </tr>\n",
       "  </thead>\n",
       "  <tbody>\n",
       "    <tr>\n",
       "      <th>0</th>\n",
       "      <td>5:00 AM</td>\n",
       "      <td>Mumford &amp; Sons</td>\n",
       "      <td>Guiding Light</td>\n",
       "      <td>Delta</td>\n",
       "    </tr>\n",
       "    <tr>\n",
       "      <th>1</th>\n",
       "      <td>5:03 AM</td>\n",
       "      <td>The Tallest Man on Earth</td>\n",
       "      <td>1904</td>\n",
       "      <td>There's No Leaving Now</td>\n",
       "    </tr>\n",
       "    <tr>\n",
       "      <th>2</th>\n",
       "      <td>5:07 AM</td>\n",
       "      <td>Beck</td>\n",
       "      <td>Everlasting Nothing</td>\n",
       "      <td>Hyperspace</td>\n",
       "    </tr>\n",
       "    <tr>\n",
       "      <th>3</th>\n",
       "      <td>5:12 AM</td>\n",
       "      <td>Caroline Rose</td>\n",
       "      <td>Feel the Way I Want</td>\n",
       "      <td>Superstar</td>\n",
       "    </tr>\n",
       "    <tr>\n",
       "      <th>4</th>\n",
       "      <td>5:16 AM</td>\n",
       "      <td>Marc Broussard</td>\n",
       "      <td>Home</td>\n",
       "      <td>Carencro</td>\n",
       "    </tr>\n",
       "    <tr>\n",
       "      <th>5</th>\n",
       "      <td>5:23 AM</td>\n",
       "      <td>Norah Jones</td>\n",
       "      <td>I'm Alive</td>\n",
       "      <td>Pick Me up Off the Floor</td>\n",
       "    </tr>\n",
       "    <tr>\n",
       "      <th>6</th>\n",
       "      <td>5:28 AM</td>\n",
       "      <td>Tedeschi Trucks Band</td>\n",
       "      <td>Anyhow</td>\n",
       "      <td>Let Me Get By</td>\n",
       "    </tr>\n",
       "    <tr>\n",
       "      <th>7</th>\n",
       "      <td>5:32 AM</td>\n",
       "      <td>Anders Osborne</td>\n",
       "      <td>Running</td>\n",
       "      <td>Buddha and the Blues</td>\n",
       "    </tr>\n",
       "    <tr>\n",
       "      <th>8</th>\n",
       "      <td>5:38 AM</td>\n",
       "      <td>Nada Surf</td>\n",
       "      <td>So Much Love</td>\n",
       "      <td>Never Not Together</td>\n",
       "    </tr>\n",
       "    <tr>\n",
       "      <th>9</th>\n",
       "      <td>5:41 AM</td>\n",
       "      <td>Andrew Bird</td>\n",
       "      <td>Sisyphus</td>\n",
       "      <td>My Finest Work Yet</td>\n",
       "    </tr>\n",
       "    <tr>\n",
       "      <th>10</th>\n",
       "      <td>5:45 AM</td>\n",
       "      <td>Regina Spektor</td>\n",
       "      <td>Fidelity</td>\n",
       "      <td>Begin To Hope</td>\n",
       "    </tr>\n",
       "    <tr>\n",
       "      <th>11</th>\n",
       "      <td>5:49 AM</td>\n",
       "      <td>Marcus King</td>\n",
       "      <td>The Well</td>\n",
       "      <td>El Dorado</td>\n",
       "    </tr>\n",
       "    <tr>\n",
       "      <th>12</th>\n",
       "      <td>5:52 AM</td>\n",
       "      <td>Jason Isbell &amp; the 400 Unit</td>\n",
       "      <td>Be Afraid</td>\n",
       "      <td>Reunions</td>\n",
       "    </tr>\n",
       "    <tr>\n",
       "      <th>13</th>\n",
       "      <td>5:56 AM</td>\n",
       "      <td>Beach House</td>\n",
       "      <td>Norway</td>\n",
       "      <td>Teen Dream</td>\n",
       "    </tr>\n",
       "  </tbody>\n",
       "</table>\n",
       "</div>"
      ],
      "text/plain": [
       "       time                       artist                 song  \\\n",
       "0   5:00 AM               Mumford & Sons        Guiding Light   \n",
       "1   5:03 AM     The Tallest Man on Earth                 1904   \n",
       "2   5:07 AM                         Beck  Everlasting Nothing   \n",
       "3   5:12 AM                Caroline Rose  Feel the Way I Want   \n",
       "4   5:16 AM               Marc Broussard                 Home   \n",
       "5   5:23 AM                  Norah Jones            I'm Alive   \n",
       "6   5:28 AM         Tedeschi Trucks Band               Anyhow   \n",
       "7   5:32 AM               Anders Osborne              Running   \n",
       "8   5:38 AM                    Nada Surf         So Much Love   \n",
       "9   5:41 AM                  Andrew Bird             Sisyphus   \n",
       "10  5:45 AM               Regina Spektor             Fidelity   \n",
       "11  5:49 AM                  Marcus King             The Well   \n",
       "12  5:52 AM  Jason Isbell & the 400 Unit            Be Afraid   \n",
       "13  5:56 AM                  Beach House               Norway   \n",
       "\n",
       "                       album  \n",
       "0                      Delta  \n",
       "1     There's No Leaving Now  \n",
       "2                 Hyperspace  \n",
       "3                  Superstar  \n",
       "4                   Carencro  \n",
       "5   Pick Me up Off the Floor  \n",
       "6              Let Me Get By  \n",
       "7       Buddha and the Blues  \n",
       "8         Never Not Together  \n",
       "9         My Finest Work Yet  \n",
       "10             Begin To Hope  \n",
       "11                 El Dorado  \n",
       "12                  Reunions  \n",
       "13                Teen Dream  "
      ]
     },
     "execution_count": 30,
     "metadata": {},
     "output_type": "execute_result"
    }
   ],
   "source": [
    "wnrn2 = wnrn_spider('https://spinitron.com/' + wnrn_url[0])\n",
    "wnrn2"
   ]
  },
  {
   "cell_type": "markdown",
   "metadata": {},
   "source": [
    "Our goal here is to loop across all the URLs we collected, extract the data in a clean data frame, and append these data frames together to construct a longer playlist. To do that, we will use a `for` loop, which has the following syntax:\n",
    "```\n",
    "for index in list:\n",
    "    expressions\n",
    "```\n",
    "This syntax is similar to the syntax we used to build a comprehension loop. `list` is an existing list, and `index` stands in for one element of this list. For each element of the list, we execute the code contained in `expressions`, which can use the `index`.\n",
    "\n",
    "For our spider, we will use the following steps:\n",
    "\n",
    "1. We take the data we already scraped from https://spinitron.com/WNRN (saved as `wnrn_df`) and clone it as a new variable named `wnrn_total_playlist`. It is important that we make a copy, and that we do not overwrite `wnrn_df`. We will be repeatedly saving over `wnrn_total_playlist` within the loop, and if we do not overwrite `wnrn_df`, it gives us a stable data frame to return to as a starting point if we need to rerun this loop. \n",
    "\n",
    "2. We use a `for` loop to loop across all the web addresses inside `wnrn_url`.\n",
    "\n",
    "3. In the `for` loop, we use the `wnrn_spider()` function to extract the playlist data from each of the URLs inside `wnrn_url`.\n",
    "\n",
    "4. In the `for` loop, we use the `.append()` method to attach the new data to the bottom of the existing data, matching corresponding columns.\n",
    "\n",
    "The code is as follows:"
   ]
  },
  {
   "cell_type": "code",
   "execution_count": 31,
   "metadata": {},
   "outputs": [],
   "source": [
    "wnrn_total_playlist = wnrn_df \n",
    "for w in wnrn_url:\n",
    "    moredata = wnrn_spider('https://spinitron.com/' + w) \n",
    "    wnrn_total_playlist = wnrn_total_playlist.append(moredata)"
   ]
  },
  {
   "cell_type": "markdown",
   "metadata": {},
   "source": [
    "We now have a data frame that combines all of the playlists on https://spinitron.com/WNRN and on the playlists linked to under \"Recent\":"
   ]
  },
  {
   "cell_type": "code",
   "execution_count": 32,
   "metadata": {},
   "outputs": [
    {
     "data": {
      "text/html": [
       "<div>\n",
       "<style scoped>\n",
       "    .dataframe tbody tr th:only-of-type {\n",
       "        vertical-align: middle;\n",
       "    }\n",
       "\n",
       "    .dataframe tbody tr th {\n",
       "        vertical-align: top;\n",
       "    }\n",
       "\n",
       "    .dataframe thead th {\n",
       "        text-align: right;\n",
       "    }\n",
       "</style>\n",
       "<table border=\"1\" class=\"dataframe\">\n",
       "  <thead>\n",
       "    <tr style=\"text-align: right;\">\n",
       "      <th></th>\n",
       "      <th>time</th>\n",
       "      <th>artist</th>\n",
       "      <th>song</th>\n",
       "      <th>album</th>\n",
       "    </tr>\n",
       "  </thead>\n",
       "  <tbody>\n",
       "    <tr>\n",
       "      <th>0</th>\n",
       "      <td>6:43 AM</td>\n",
       "      <td>Khruangbin &amp; Leon Bridges</td>\n",
       "      <td>Texas Sun</td>\n",
       "      <td>Texas Sun</td>\n",
       "    </tr>\n",
       "    <tr>\n",
       "      <th>1</th>\n",
       "      <td>6:39 AM</td>\n",
       "      <td>Talking Heads</td>\n",
       "      <td>Burning Down The House</td>\n",
       "      <td>Speaking In Tongues</td>\n",
       "    </tr>\n",
       "    <tr>\n",
       "      <th>2</th>\n",
       "      <td>6:36 AM</td>\n",
       "      <td>Steve Earle</td>\n",
       "      <td>You're Still Standin' There</td>\n",
       "      <td>I Feel Alright</td>\n",
       "    </tr>\n",
       "    <tr>\n",
       "      <th>3</th>\n",
       "      <td>6:31 AM</td>\n",
       "      <td>Rookie</td>\n",
       "      <td>Sunglasses</td>\n",
       "      <td>Rookie</td>\n",
       "    </tr>\n",
       "    <tr>\n",
       "      <th>4</th>\n",
       "      <td>6:26 AM</td>\n",
       "      <td>Heartless Bastards</td>\n",
       "      <td>Parted Ways</td>\n",
       "      <td>Arrows</td>\n",
       "    </tr>\n",
       "    <tr>\n",
       "      <th>...</th>\n",
       "      <td>...</td>\n",
       "      <td>...</td>\n",
       "      <td>...</td>\n",
       "      <td>...</td>\n",
       "    </tr>\n",
       "    <tr>\n",
       "      <th>53</th>\n",
       "      <td>11:43 PM</td>\n",
       "      <td>Waxahatchee</td>\n",
       "      <td>Lilacs</td>\n",
       "      <td>Saint Cloud</td>\n",
       "    </tr>\n",
       "    <tr>\n",
       "      <th>54</th>\n",
       "      <td>11:47 PM</td>\n",
       "      <td>Nathaniel Rateliff</td>\n",
       "      <td>And It's Still Alright</td>\n",
       "      <td>And It's Still Alright</td>\n",
       "    </tr>\n",
       "    <tr>\n",
       "      <th>55</th>\n",
       "      <td>11:51 PM</td>\n",
       "      <td>Spoon</td>\n",
       "      <td>Hot Thoughts</td>\n",
       "      <td>Hot Thoughts</td>\n",
       "    </tr>\n",
       "    <tr>\n",
       "      <th>56</th>\n",
       "      <td>11:55 PM</td>\n",
       "      <td>Alejandro Escovedo</td>\n",
       "      <td>Sister Lost Soul</td>\n",
       "      <td>Real Animal</td>\n",
       "    </tr>\n",
       "    <tr>\n",
       "      <th>57</th>\n",
       "      <td>11:58 PM</td>\n",
       "      <td>Vagabon</td>\n",
       "      <td>Water Me Down</td>\n",
       "      <td>Vagabon</td>\n",
       "    </tr>\n",
       "  </tbody>\n",
       "</table>\n",
       "<p>162 rows × 4 columns</p>\n",
       "</div>"
      ],
      "text/plain": [
       "        time                     artist                         song  \\\n",
       "0    6:43 AM  Khruangbin & Leon Bridges                    Texas Sun   \n",
       "1    6:39 AM              Talking Heads       Burning Down The House   \n",
       "2    6:36 AM                Steve Earle  You're Still Standin' There   \n",
       "3    6:31 AM                     Rookie                   Sunglasses   \n",
       "4    6:26 AM         Heartless Bastards                  Parted Ways   \n",
       "..       ...                        ...                          ...   \n",
       "53  11:43 PM                Waxahatchee                       Lilacs   \n",
       "54  11:47 PM         Nathaniel Rateliff       And It's Still Alright   \n",
       "55  11:51 PM                      Spoon                 Hot Thoughts   \n",
       "56  11:55 PM         Alejandro Escovedo             Sister Lost Soul   \n",
       "57  11:58 PM                    Vagabon                Water Me Down   \n",
       "\n",
       "                     album  \n",
       "0                Texas Sun  \n",
       "1      Speaking In Tongues  \n",
       "2           I Feel Alright  \n",
       "3                   Rookie  \n",
       "4                   Arrows  \n",
       "..                     ...  \n",
       "53             Saint Cloud  \n",
       "54  And It's Still Alright  \n",
       "55            Hot Thoughts  \n",
       "56             Real Animal  \n",
       "57                 Vagabon  \n",
       "\n",
       "[162 rows x 4 columns]"
      ]
     },
     "execution_count": 32,
     "metadata": {},
     "output_type": "execute_result"
    }
   ],
   "source": [
    "wnrn_total_playlist"
   ]
  }
 ],
 "metadata": {
  "kernelspec": {
   "display_name": "Python 3",
   "language": "python",
   "name": "python3"
  },
  "language_info": {
   "codemirror_mode": {
    "name": "ipython",
    "version": 3
   },
   "file_extension": ".py",
   "mimetype": "text/x-python",
   "name": "python",
   "nbconvert_exporter": "python",
   "pygments_lexer": "ipython3",
   "version": "3.7.3"
  }
 },
 "nbformat": 4,
 "nbformat_minor": 4
}
